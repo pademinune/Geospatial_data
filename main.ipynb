{
 "cells": [
  {
   "cell_type": "markdown",
   "id": "d0d4d2c0",
   "metadata": {},
   "source": [
    "Importing the nessesary libraries"
   ]
  },
  {
   "cell_type": "code",
   "execution_count": null,
   "id": "1ac188ae",
   "metadata": {
    "lines_to_next_cell": 2
   },
   "outputs": [],
   "source": [
    "import geopandas as gpd\n",
    "import numpy as np\n",
    "from pulp import *"
   ]
  },
  {
   "cell_type": "code",
   "execution_count": null,
   "id": "a1f59072",
   "metadata": {},
   "outputs": [],
   "source": [
    "# Load the shapefile\n",
    "gdf = gpd.read_file(\"land_parcels.shp\")"
   ]
  },
  {
   "cell_type": "markdown",
   "id": "d5283d7f",
   "metadata": {},
   "source": [
    "Find basic info"
   ]
  },
  {
   "cell_type": "code",
   "execution_count": null,
   "id": "3be4056c",
   "metadata": {},
   "outputs": [],
   "source": [
    "print(\"\\n\\n-------------------------------INFO BELOW-------------------------------\\n\")\n",
    "\n",
    "# Number of polygons\n",
    "num_polygons = len(gdf)\n",
    "print(\"NUMBER OF POLYGONS: {}\".format(num_polygons))\n",
    "\n",
    "# Carbon stores\n",
    "carbon = gdf[\"carbon_sto\"]\n",
    "print(\"CARBON RANGES FROM {} TO {}.\".format(carbon.min(), carbon.max()))\n",
    "\n",
    "# Costs of polygons\n",
    "costs = gdf[\"cost\"]\n",
    "print(\"COSTS RANGE FROM {} TO {}.\".format(costs.min(), costs.max()))"
   ]
  },
  {
   "cell_type": "markdown",
   "id": "57fae1d4",
   "metadata": {},
   "source": [
    "Finding the average carbon value"
   ]
  },
  {
   "cell_type": "code",
   "execution_count": null,
   "id": "6f30315e",
   "metadata": {},
   "outputs": [],
   "source": [
    "total = 0\n",
    "for value in carbon:\n",
    "    total += value\n",
    "\n",
    "carbon_average = total / 100\n",
    "\n",
    "print(\"AVERAGE CARBON VALUE: {}\".format(carbon_average))"
   ]
  },
  {
   "cell_type": "markdown",
   "id": "da62afa3",
   "metadata": {},
   "source": [
    "Reprojecting the shapefile and computing areas"
   ]
  },
  {
   "cell_type": "code",
   "execution_count": null,
   "id": "390454b8",
   "metadata": {},
   "outputs": [],
   "source": [
    "gdf = gdf.to_crs(epsg=3347)\n",
    "\n",
    "# Compute areas\n",
    "gdf[\"area_km2\"] = gdf.geometry.area / 1e6 # I am dividing by 10^6 because 1 km^2 = 1 000 000 m^2 = 10^6 m^2\n",
    "\n",
    "print(\"AREAS RANGE FROM {} TO {}\".format(gdf[\"area_km2\"].min(), gdf[\"area_km2\"].max()))"
   ]
  },
  {
   "cell_type": "markdown",
   "id": "1aaa4870",
   "metadata": {},
   "source": [
    "Filtering outliers"
   ]
  },
  {
   "cell_type": "code",
   "execution_count": null,
   "id": "45e9c940",
   "metadata": {},
   "outputs": [],
   "source": [
    "# filtering outliers\n",
    "threshold = 0.1 # arbitrarily set minimum area to 0.1 km^2. Since the minimum in the dataset is greater than 30, nothing gets filtered out\n",
    "filtered_gdf = gdf[gdf[\"area_km2\"] >= threshold]\n",
    "\n",
    "print(\"Polygons removed: {}\".format(len(gdf) - len(filtered_gdf)))"
   ]
  },
  {
   "cell_type": "markdown",
   "id": "7d9b0267",
   "metadata": {},
   "source": [
    "Creating an adjacency matrix to keep track of adjacent polygons"
   ]
  },
  {
   "cell_type": "code",
   "execution_count": null,
   "id": "576b81b4",
   "metadata": {
    "lines_to_next_cell": 2
   },
   "outputs": [],
   "source": [
    "adjacency_matrix = np.zeros((len(filtered_gdf), len(filtered_gdf)), dtype=int)\n",
    "\n",
    "# Check adjacency\n",
    "for i, geom1 in enumerate(filtered_gdf.geometry):\n",
    "        for j, geom2 in enumerate(filtered_gdf.geometry):\n",
    "                    if i != j and geom1.touches(geom2):\n",
    "                                    adjacency_matrix[i, j] = 1 # if 2 polygons are adjacent, set their corresponding matrix entry to 1"
   ]
  },
  {
   "cell_type": "markdown",
   "id": "a90129ca",
   "metadata": {},
   "source": [
    "Storing important values of the filtered data"
   ]
  },
  {
   "cell_type": "code",
   "execution_count": null,
   "id": "2def258f",
   "metadata": {},
   "outputs": [],
   "source": [
    "filtered_gdf[\"area\"] = filtered_gdf.geometry.area / 1e6\n",
    "\n",
    "filtered_costs = filtered_gdf['cost']\n",
    "filtered_carbon = filtered_gdf['carbon_sto']\n",
    "filtered_areas = filtered_gdf['area']\n",
    "\n",
    "sumof_costs = filtered_costs.sum()\n",
    "sumof_areas = filtered_areas.sum()"
   ]
  },
  {
   "cell_type": "markdown",
   "id": "0aac10bc",
   "metadata": {},
   "source": [
    "We will now use Pulp to optimize the selection of polygons"
   ]
  },
  {
   "cell_type": "code",
   "execution_count": null,
   "id": "7b7dd849",
   "metadata": {},
   "outputs": [],
   "source": [
    "# create a dictionary to store the variables we want to optimize\n",
    "# In this case, our variables are binary values representing whether or not to include it's corresponding polygon\n",
    "parcel_vars = {i: LpVariable(\"x_{}\".format(i), cat = \"Binary\") for i in range(len(filtered_gdf))}\n",
    "\n",
    "# initialize problem, with argument to maximize\n",
    "problem = LpProblem(\"Maximimze_the_carbon_storage\", LpMaximize)\n",
    "\n",
    "# this is what we need to maximize\n",
    "problem += lpSum(parcel_vars[i] * filtered_carbon[i] for i in range(len(filtered_gdf)))"
   ]
  },
  {
   "cell_type": "markdown",
   "id": "8c53f973",
   "metadata": {},
   "source": [
    "Introducing the constraints"
   ]
  },
  {
   "cell_type": "code",
   "execution_count": null,
   "id": "813756c3",
   "metadata": {},
   "outputs": [],
   "source": [
    "# constraint 1 is that budget <= 1/2 total cost\n",
    "problem += lpSum(filtered_costs[i] * parcel_vars[i] for i in range(len(filtered_gdf))) <= 1/2 * sumof_costs\n",
    "\n",
    "# constraint 2 is that no two selected polygons are adjacent\n",
    "for i in range(len(filtered_gdf)):\n",
    "    for j in range(len(filtered_gdf)):\n",
    "        if adjacency_matrix[i, j] == 1:\n",
    "            problem += parcel_vars[i] + parcel_vars[j] <= 1\n",
    "\n",
    "# optional constraint 3 is that the total area of the selected polygons must be >= 1/4 of total area\n",
    "problem += lpSum(filtered_areas[i] * parcel_vars[i] for i in range(len(filtered_gdf))) >= 1/4 * sumof_areas"
   ]
  },
  {
   "cell_type": "markdown",
   "id": "71d75674",
   "metadata": {},
   "source": [
    "Finally, call on pulp to solve the problem. Since it prints a lot of clutter, I have added some dividers."
   ]
  },
  {
   "cell_type": "code",
   "execution_count": null,
   "id": "eb133979",
   "metadata": {},
   "outputs": [],
   "source": [
    "print(\"---------------------------------Problem optimizing algorithm below------------------------------------\")\n",
    "problem.solve()\n",
    "print(\"---------------------------------Problem optimizing algorithm above------------------------------------\")"
   ]
  },
  {
   "cell_type": "markdown",
   "id": "ff6e3db3",
   "metadata": {},
   "source": [
    "Store the indexes of the selected polygons in a list"
   ]
  },
  {
   "cell_type": "code",
   "execution_count": null,
   "id": "ff85f54e",
   "metadata": {},
   "outputs": [],
   "source": [
    "selected_polygons = [i for i in range(len(filtered_gdf)) if parcel_vars[i].value() == 1]"
   ]
  },
  {
   "cell_type": "markdown",
   "id": "6ebbdbe9",
   "metadata": {},
   "source": [
    "This outputs the information about which polygons were selected"
   ]
  },
  {
   "cell_type": "code",
   "execution_count": null,
   "id": "49922595",
   "metadata": {},
   "outputs": [],
   "source": [
    "print(\"{} polygons were selected. View their indexes (in filtered_gdf) below: \".format(len(selected_polygons)))\n",
    "print(selected_polygons)"
   ]
  },
  {
   "cell_type": "markdown",
   "id": "23e45db2",
   "metadata": {},
   "source": [
    "Checks if any polygons are adjacent for debugging purposes"
   ]
  },
  {
   "cell_type": "code",
   "execution_count": null,
   "id": "a641332d",
   "metadata": {},
   "outputs": [],
   "source": [
    "for i in selected_polygons:\n",
    "    for j in selected_polygons:\n",
    "        if adjacency_matrix[i, j] == 1:\n",
    "\n",
    "            print(adjacency_matrix[i, j])"
   ]
  },
  {
   "cell_type": "markdown",
   "id": "f511ad84",
   "metadata": {},
   "source": [
    "Finally, it produces some final information about the solution set"
   ]
  },
  {
   "cell_type": "code",
   "execution_count": null,
   "id": "78d14fae",
   "metadata": {},
   "outputs": [],
   "source": [
    "print(\"Their total carbon storage is {} compared to an overall carbon storage of {}\".format(sum(filtered_carbon[i] for i in selected_polygons), filtered_carbon.sum()))\n",
    "\n",
    "print(\"Their total cost is {} compared to a budget of {}\".format(sum(filtered_costs[i] for i in selected_polygons), 1/2 * sumof_costs))\n",
    "\n",
    "print(\"Their total area is {} compared to an overall area of {} (in km^2)\".format(sum(filtered_areas[i] for i in selected_polygons), sumof_areas))\n",
    "\n",
    "print(\"DONE\")"
   ]
  },
  {
   "cell_type": "markdown",
   "id": "2c75375b",
   "metadata": {},
   "source": [
    "Plotting the terrain"
   ]
  },
  {
   "cell_type": "code",
   "execution_count": null,
   "id": "dcef0425",
   "metadata": {},
   "outputs": [],
   "source": [
    "import matplotlib.pyplot as plt\n",
    "\n",
    "# Create a GeoDataFrame with selected polygons\n",
    "selected_gdf = filtered_gdf.iloc[selected_polygons]\n",
    "\n",
    "# Plot the entire filtered GeoDataFrame and then overlay the selected polygons\n",
    "fig, ax = plt.subplots(figsize=(10, 10))\n",
    "filtered_gdf.plot(ax=ax, color='lightgrey', edgecolor='black')  # Plot all polygons\n",
    "selected_gdf.plot(ax=ax, color='green', edgecolor='black')  # Highlight selected polygons in green\n",
    "\n",
    "plt.title('Selected Polygons') # set plot title\n",
    "\n",
    "plt.savefig(\"selected_polygons_plot.png\", bbox_inches='tight') # save the plot locally\n",
    "\n",
    "plt.show() # display the plot, if possible"
   ]
  }
 ],
 "metadata": {
  "jupytext": {
   "cell_metadata_filter": "-all",
   "main_language": "python",
   "notebook_metadata_filter": "-all"
  },
  "language_info": {
   "name": "python"
  }
 },
 "nbformat": 4,
 "nbformat_minor": 5
}
